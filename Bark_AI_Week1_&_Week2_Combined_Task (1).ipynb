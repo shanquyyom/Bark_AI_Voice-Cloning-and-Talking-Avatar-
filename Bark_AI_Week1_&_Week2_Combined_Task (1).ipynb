{
  "nbformat": 4,
  "nbformat_minor": 0,
  "metadata": {
    "colab": {
      "provenance": []
    },
    "kernelspec": {
      "name": "python3",
      "display_name": "Python 3"
    },
    "language_info": {
      "name": "python"
    }
  },
  "cells": [
    {
      "cell_type": "code",
      "execution_count": null,
      "metadata": {
        "collapsed": true,
        "id": "kb8rFl0Nfe3N"
      },
      "outputs": [],
      "source": [
        "# 🔹 Step 1: Install required libraries\n",
        "!pip install git+https://github.com/suno-ai/bark.git\n",
        "!pip install librosa soundfile\n",
        "\n",
        "# 🔹 Step 2: Import libraries\n",
        "from bark import SAMPLE_RATE, generate_audio, preload_models\n",
        "from scipy.io.wavfile import write as write_wav\n",
        "from google.colab import files\n",
        "import torch\n",
        "import librosa\n",
        "import numpy as np\n",
        "import soundfile as sf\n",
        "\n",
        "# 🔹 Step 3: Fix torch.load bug\n",
        "original_torch_load = torch.load\n",
        "def custom_torch_load(*args, **kwargs):\n",
        "    kwargs['weights_only'] = False\n",
        "    return original_torch_load(*args, **kwargs)\n",
        "torch.load = custom_torch_load\n",
        "\n",
        "# 🔹 Step 4: Load Bark Models (small models for speed)\n",
        "preload_models(text_use_small=True, coarse_use_small=True, fine_use_small=True)\n",
        "\n",
        "# 🔹 Step 5: Choose Mode (Text-only OR Reference Voice)\n",
        "mode = input(\"Enter mode: '1' for text-to-voice (Week 1), '2' for reference voice + text (Week 2): \")\n",
        "\n",
        "if mode == '1':\n",
        "    # Week 1: Just text to speech using default Bark voice\n",
        "    text = input(\"Enter your text: \")\n",
        "    audio_array = generate_audio(text)\n",
        "    write_wav(\"bark_week1.wav\", SAMPLE_RATE, audio_array)\n",
        "    files.download(\"bark_week1.wav\")\n",
        "    print(\"✅ Week 1 voice generated and downloaded.\")\n",
        "\n",
        "elif mode == '2':\n",
        "    # Week 2: Upload reference audio and generate speech (simulated cloning)\n",
        "    print(\"Upload your 30–60 sec reference WAV file (mono, 24kHz)...\")\n",
        "    uploaded = files.upload()\n",
        "    audio_file = list(uploaded.keys())[0]\n",
        "\n",
        "    # Load and normalize reference audio\n",
        "    def preprocess_audio(audio_path, target_sr=24000):\n",
        "        audio, sr = sf.read(audio_path)\n",
        "        if sr != target_sr:\n",
        "            audio = librosa.resample(audio, orig_sr=sr, target_sr=target_sr)\n",
        "        if audio.ndim > 1:\n",
        "            audio = np.mean(audio, axis=1)\n",
        "        audio = audio / (np.max(np.abs(audio)) + 1e-6)\n",
        "        return audio\n",
        "\n",
        "    reference_audio = preprocess_audio(audio_file)\n",
        "\n",
        "    text = input(\"Enter the text you want the cloned voice to say: \")\n",
        "    audio_array = generate_audio(text, history_prompt=\"v2/en_speaker_9\")  # default voice\n",
        "    write_wav(\"cloned_voice_week2.wav\", SAMPLE_RATE, audio_array)\n",
        "    files.download(\"cloned_voice_week2.wav\")\n",
        "    print(\"✅ Week 2 simulated voice generated and downloaded.\")\n",
        "\n",
        "else:\n",
        "    print(\"❌ Invalid input. Run again and enter '1' or '2'.\")\n"
      ]
    }
  ]
}